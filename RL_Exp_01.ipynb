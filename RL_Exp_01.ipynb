{
  "nbformat": 4,
  "nbformat_minor": 0,
  "metadata": {
    "colab": {
      "provenance": []
    },
    "kernelspec": {
      "name": "python3",
      "display_name": "Python 3"
    },
    "language_info": {
      "name": "python"
    }
  },
  "cells": [
    {
      "cell_type": "code",
      "execution_count": 1,
      "metadata": {
        "colab": {
          "base_uri": "https://localhost:8080/"
        },
        "id": "tCUOseBTflsJ",
        "outputId": "a928988f-b52f-43ca-8c30-e158154b3a83"
      },
      "outputs": [
        {
          "output_type": "stream",
          "name": "stdout",
          "text": [
            "Collecting gym-walk\n",
            "  Cloning https://github.com/mimoralea/gym-walk to /tmp/pip-install-uqrryny8/gym-walk_cd595c05df714d499a026a7f70db4883\n",
            "  Running command git clone --filter=blob:none --quiet https://github.com/mimoralea/gym-walk /tmp/pip-install-uqrryny8/gym-walk_cd595c05df714d499a026a7f70db4883\n",
            "  Resolved https://github.com/mimoralea/gym-walk to commit 5999016267d6de2f5a63307fb00dfd63de319ac1\n",
            "  Preparing metadata (setup.py) ... \u001b[?25l\u001b[?25hdone\n",
            "Requirement already satisfied: gym in /usr/local/lib/python3.10/dist-packages (from gym-walk) (0.25.2)\n",
            "Requirement already satisfied: numpy>=1.18.0 in /usr/local/lib/python3.10/dist-packages (from gym->gym-walk) (1.23.5)\n",
            "Requirement already satisfied: cloudpickle>=1.2.0 in /usr/local/lib/python3.10/dist-packages (from gym->gym-walk) (2.2.1)\n",
            "Requirement already satisfied: gym-notices>=0.0.4 in /usr/local/lib/python3.10/dist-packages (from gym->gym-walk) (0.0.8)\n",
            "Building wheels for collected packages: gym-walk\n",
            "  Building wheel for gym-walk (setup.py) ... \u001b[?25l\u001b[?25hdone\n",
            "  Created wheel for gym-walk: filename=gym_walk-0.0.2-py3-none-any.whl size=4054 sha256=7260bd0e22120a299bb5cb0e7e3f8820d968e8d8d951aed9239868899a3807fb\n",
            "  Stored in directory: /tmp/pip-ephem-wheel-cache-7e8z1tza/wheels/24/fe/c4/0cbc7511d29265bad7e28a09311db3f87f0cafba74af54d530\n",
            "Successfully built gym-walk\n",
            "Installing collected packages: gym-walk\n",
            "Successfully installed gym-walk-0.0.2\n"
          ]
        }
      ],
      "source": [
        "pip install git+https://github.com/mimoralea/gym-walk#egg=gym-walk\n"
      ]
    },
    {
      "cell_type": "code",
      "source": [
        "P = {\n",
        "    0 : {\n",
        "        0 : [(1.0, 0, 0.0, False)],\n",
        "        1 : [(1.0, 1, 0.0, False)],\n",
        "        2 : [(1.0, 2, 0.0, False)],\n",
        "        3 : [(1.0, 0, 0.0, False)]\n",
        "    },\n",
        "\n",
        "    1 : {\n",
        "        0 : [(1.0, 1, 0.0, False)],\n",
        "        1 : [(1.0, 1, 0.0, False)],\n",
        "        2 : [(1.0, 3, 0.0, False)],\n",
        "        3 : [(1.0, 0, 0.0, False)]\n",
        "    },\n",
        "\n",
        "    2 : {\n",
        "        0 : [(1.0, 0, 0.0, False)],\n",
        "        1 : [(1.0, 3, 0.0, False)],\n",
        "        2 : [(1.0, 2, 0.0, False)],\n",
        "        3 : [(1.0, 2, 0.0, False)]\n",
        "    },\n",
        "\n",
        "    3 : {\n",
        "        0 : [(1.0, 1, 0.0, False)],\n",
        "        1 : [(1.0, 3, 0.0, False)],\n",
        "        2 : [(1.0, 4, 0.0, False)],\n",
        "        3 : [(1.0, 2, 0.0, False)]\n",
        "    },\n",
        "\n",
        "    4 : {\n",
        "        0 : [(1.0, 3, 0.0, False)],\n",
        "        1 : [(1.0, 5, 0.0, False)],\n",
        "        2 : [(1.0, 6, 0.0, False)],\n",
        "        3 : [(1.0, 4, 0.0, False)]\n",
        "    },\n",
        "\n",
        "    5 : {\n",
        "        0 : [(1.0, 5, 0.0, False)],\n",
        "        1 : [(1.0, 5, 0.0, False)],\n",
        "        2 : [(1.0, 7, 1.0, True)],\n",
        "        3 : [(1.0, 4, 0.0, False)]\n",
        "    },\n",
        "\n",
        "    6 : {\n",
        "        0 : [(1.0, 4, 0.0, False)],\n",
        "        1 : [(1.0, 7, 1.0, True)],\n",
        "        2 : [(1.0, 6, 0.0, False)],\n",
        "        3 : [(1.0, 6, 0.0, False)]\n",
        "    },\n",
        "\n",
        "    7 : {\n",
        "        0 : [(1.0, 7, 1.0, True)],\n",
        "        1 : [(1.0, 7, 1.0, True)],\n",
        "        2 : [(1.0, 7, 1.0, True)],\n",
        "        3 : [(1.0, 7, 1.0, True)]\n",
        "    }\n",
        "}"
      ],
      "metadata": {
        "id": "87FADl1ghTeP"
      },
      "execution_count": 4,
      "outputs": []
    },
    {
      "cell_type": "code",
      "source": [
        "P"
      ],
      "metadata": {
        "colab": {
          "base_uri": "https://localhost:8080/"
        },
        "id": "MwpLRljsX0Tm",
        "outputId": "4f67bb83-4b2f-4597-faf7-5bcf4076872c"
      },
      "execution_count": 5,
      "outputs": [
        {
          "output_type": "execute_result",
          "data": {
            "text/plain": [
              "{0: {0: [(1.0, 0, 0.0, False)],\n",
              "  1: [(1.0, 1, 0.0, False)],\n",
              "  2: [(1.0, 2, 0.0, False)],\n",
              "  3: [(1.0, 0, 0.0, False)]},\n",
              " 1: {0: [(1.0, 1, 0.0, False)],\n",
              "  1: [(1.0, 1, 0.0, False)],\n",
              "  2: [(1.0, 3, 0.0, False)],\n",
              "  3: [(1.0, 0, 0.0, False)]},\n",
              " 2: {0: [(1.0, 0, 0.0, False)],\n",
              "  1: [(1.0, 3, 0.0, False)],\n",
              "  2: [(1.0, 2, 0.0, False)],\n",
              "  3: [(1.0, 2, 0.0, False)]},\n",
              " 3: {0: [(1.0, 1, 0.0, False)],\n",
              "  1: [(1.0, 3, 0.0, False)],\n",
              "  2: [(1.0, 4, 0.0, False)],\n",
              "  3: [(1.0, 2, 0.0, False)]},\n",
              " 4: {0: [(1.0, 3, 0.0, False)],\n",
              "  1: [(1.0, 5, 0.0, False)],\n",
              "  2: [(1.0, 6, 0.0, False)],\n",
              "  3: [(1.0, 4, 0.0, False)]},\n",
              " 5: {0: [(1.0, 5, 0.0, False)],\n",
              "  1: [(1.0, 5, 0.0, False)],\n",
              "  2: [(1.0, 7, 1.0, True)],\n",
              "  3: [(1.0, 4, 0.0, False)]},\n",
              " 6: {0: [(1.0, 4, 0.0, False)],\n",
              "  1: [(1.0, 7, 1.0, True)],\n",
              "  2: [(1.0, 6, 0.0, False)],\n",
              "  3: [(1.0, 6, 0.0, False)]},\n",
              " 7: {0: [(1.0, 7, 1.0, True)],\n",
              "  1: [(1.0, 7, 1.0, True)],\n",
              "  2: [(1.0, 7, 1.0, True)],\n",
              "  3: [(1.0, 7, 1.0, True)]}}"
            ]
          },
          "metadata": {},
          "execution_count": 5
        }
      ]
    }
  ]
}